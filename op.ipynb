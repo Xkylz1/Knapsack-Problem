{
 "cells": [
  {
   "cell_type": "code",
   "execution_count": 1,
   "metadata": {},
   "outputs": [],
   "source": [
    "# Langkah 1: Mengimpor Pustaka yang Diperlukan\n",
    "import numpy as np\n",
    "import pandas as pd\n",
    "import random\n",
    "import matplotlib.pyplot as plt"
   ]
  },
  {
   "cell_type": "code",
   "execution_count": 4,
   "metadata": {},
   "outputs": [
    {
     "name": "stdout",
     "output_type": "stream",
     "text": [
      "   No Nama Kepala Keluarga    Nama Anak       Plan    Re-Plan\n",
      "0   1                 Agus        Farel 2019-01-27 2019-01-28\n",
      "1   2        Andri Rama KK        Laila 2019-01-27 2019-01-28\n",
      "2   3                 Agus        Boyah 2019-01-27 2019-01-28\n",
      "3   4       Taufik Hidayat  Bagus Biyyu 2019-01-27 2019-01-28\n",
      "4   5       Dadi Hasanudin    Frans Edi 2019-01-27 2019-01-28\n"
     ]
    }
   ],
   "source": [
    "# Langkah 2: Membaca Data dari CSV\n",
    "# Membaca file Excel\n",
    "data = pd.read_excel('dataset.xlsx')\n",
    "\n",
    "# Menampilkan 5 baris pertama dari data\n",
    "print(data.head())"
   ]
  },
  {
   "cell_type": "code",
   "execution_count": 6,
   "metadata": {},
   "outputs": [],
   "source": [
    "# Langkah 3: Inisialisasi Populasi\n",
    "def initialize_population(pop_size, gene_length):\n",
    "    return np.random.randint(0, [31, 11, 11, 11, 11], (pop_size, gene_length))"
   ]
  },
  {
   "cell_type": "code",
   "execution_count": 7,
   "metadata": {},
   "outputs": [],
   "source": [
    "# Langkah 4: Menentukan Fungsi Fitness\n",
    "def fitness(individual):\n",
    "    # Fungsi fitness dapat didefinisikan berdasarkan aturan spesifik\n",
    "    # Contoh sederhana: total nilai dari semua gen\n",
    "    return np.sum(individual)"
   ]
  },
  {
   "cell_type": "code",
   "execution_count": 8,
   "metadata": {},
   "outputs": [],
   "source": [
    "# Langkah 5: Seleksi Induk\n",
    "def select_parents(population, fitnesses, num_parents):\n",
    "    parents = np.empty((num_parents, population.shape[1]))\n",
    "    for parent_num in range(num_parents):\n",
    "        max_fitness_idx = np.where(fitnesses == np.max(fitnesses))\n",
    "        max_fitness_idx = max_fitness_idx[0][0]\n",
    "        parents[parent_num, :] = population[max_fitness_idx, :]\n",
    "        fitnesses[max_fitness_idx] = -99999999\n",
    "    return parents"
   ]
  },
  {
   "cell_type": "code",
   "execution_count": 10,
   "metadata": {},
   "outputs": [],
   "source": [
    "# Langkah 6: Crossover\n",
    "def crossover(parents, offspring_size):\n",
    "    offspring = np.empty(offspring_size)\n",
    "    crossover_point = np.uint8(offspring_size[1] / 2)\n",
    "    for k in range(offspring_size[0]):\n",
    "        parent1_idx = k % parents.shape[0]\n",
    "        parent2_idx = (k + 1) % parents.shape[0]\n",
    "        offspring[k, 0:crossover_point] = parents[parent1_idx, 0:crossover_point]\n",
    "        offspring[k, crossover_point:] = parents[parent2_idx, crossover_point:]\n",
    "    return offspring"
   ]
  },
  {
   "cell_type": "code",
   "execution_count": 11,
   "metadata": {},
   "outputs": [],
   "source": [
    "# Langkah 7: Mutasi\n",
    "def mutation(offspring, mutation_rate=0.01):\n",
    "    for idx in range(offspring.shape[0]):\n",
    "        for _ in range(int(offspring.shape[1] * mutation_rate)):\n",
    "            gene_idx = random.randint(0, offspring.shape[1] - 1)\n",
    "            if gene_idx == 0:\n",
    "                offspring[idx, gene_idx] = random.randint(0, 30)\n",
    "            else:\n",
    "                offspring[idx, gene_idx] = random.randint(0, 10)\n",
    "    return offspring"
   ]
  },
  {
   "cell_type": "code",
   "execution_count": 12,
   "metadata": {},
   "outputs": [
    {
     "name": "stdout",
     "output_type": "stream",
     "text": [
      "Generation 0: Best fitness = 37\n",
      "Generation 1: Best fitness = 49\n",
      "Generation 2: Best fitness = 51\n",
      "Generation 3: Best fitness = 54\n",
      "Generation 4: Best fitness = 54\n",
      "Generation 5: Best fitness = 54\n",
      "Generation 6: Best fitness = 54\n",
      "Generation 7: Best fitness = 54\n",
      "Generation 8: Best fitness = 54\n",
      "Generation 9: Best fitness = 54\n",
      "Generation 10: Best fitness = 54\n",
      "Generation 11: Best fitness = 54\n",
      "Generation 12: Best fitness = 54\n",
      "Generation 13: Best fitness = 54\n",
      "Generation 14: Best fitness = 54\n",
      "Generation 15: Best fitness = 54\n",
      "Generation 16: Best fitness = 54\n",
      "Generation 17: Best fitness = 54\n",
      "Generation 18: Best fitness = 54\n",
      "Generation 19: Best fitness = 54\n",
      "Generation 20: Best fitness = 54\n",
      "Generation 21: Best fitness = 54\n",
      "Generation 22: Best fitness = 54\n",
      "Generation 23: Best fitness = 54\n",
      "Generation 24: Best fitness = 54\n",
      "Generation 25: Best fitness = 54\n",
      "Generation 26: Best fitness = 54\n",
      "Generation 27: Best fitness = 54\n",
      "Generation 28: Best fitness = 54\n",
      "Generation 29: Best fitness = 54\n",
      "Generation 30: Best fitness = 54\n",
      "Generation 31: Best fitness = 54\n",
      "Generation 32: Best fitness = 54\n",
      "Generation 33: Best fitness = 54\n",
      "Generation 34: Best fitness = 54\n",
      "Generation 35: Best fitness = 54\n",
      "Generation 36: Best fitness = 54\n",
      "Generation 37: Best fitness = 54\n",
      "Generation 38: Best fitness = 54\n",
      "Generation 39: Best fitness = 54\n",
      "Generation 40: Best fitness = 54\n",
      "Generation 41: Best fitness = 54\n",
      "Generation 42: Best fitness = 54\n",
      "Generation 43: Best fitness = 54\n",
      "Generation 44: Best fitness = 54\n",
      "Generation 45: Best fitness = 54\n",
      "Generation 46: Best fitness = 54\n",
      "Generation 47: Best fitness = 54\n",
      "Generation 48: Best fitness = 54\n",
      "Generation 49: Best fitness = 54\n"
     ]
    }
   ],
   "source": [
    "# Langkah 8: Menjalankan Algoritma Genetika\n",
    "pop_size = 13  # Ukuran populasi\n",
    "gene_length = 5  # Panjang gen individu\n",
    "num_generations = 50  # Jumlah generasi\n",
    "num_parents_mating = 4  # Jumlah induk yang dipilih\n",
    "\n",
    "population = initialize_population(pop_size, gene_length)\n",
    "\n",
    "# Menyimpan nilai fitness terbaik setiap generasi\n",
    "best_fitness_values = []\n",
    "\n",
    "for generation in range(num_generations):\n",
    "    fitnesses = np.array([fitness(individual) for individual in population])\n",
    "    parents = select_parents(population, fitnesses, num_parents_mating)\n",
    "    offspring_crossover = crossover(parents, (pop_size - parents.shape[0], gene_length))\n",
    "    offspring_mutation = mutation(offspring_crossover)\n",
    "    population[0:parents.shape[0], :] = parents\n",
    "    population[parents.shape[0]:, :] = offspring_mutation\n",
    "    \n",
    "    # Simpan nilai fitness terbaik\n",
    "    best_fitness_values.append(np.max(fitnesses))\n",
    "    \n",
    "    # Print hasil generasi ini\n",
    "    print(f\"Generation {generation}: Best fitness = {np.max(fitnesses)}\")"
   ]
  },
  {
   "cell_type": "code",
   "execution_count": 13,
   "metadata": {},
   "outputs": [
    {
     "data": {
      "image/png": "[encoded data removed]",
      "text/plain": [
       "<Figure size 640x480 with 1 Axes>"
      ]
     },
     "metadata": {},
     "output_type": "display_data"
    },
    {
     "name": "stdout",
     "output_type": "stream",
     "text": [
      "Best individual: [26 10  4  8  6]\n",
      "Best fitness: 54\n"
     ]
    }
   ],
   "source": [
    "# Langkah 9: Visualisasi Hasil\n",
    "plt.plot(range(num_generations), best_fitness_values)\n",
    "plt.xlabel('Generasi')\n",
    "plt.ylabel('Fitness Terbaik')\n",
    "plt.title('Perkembangan Fitness Terbaik Selama Generasi')\n",
    "plt.show()\n",
    "\n",
    "# Menampilkan individu terbaik\n",
    "best_individual_idx = np.argmax([fitness(individual) for individual in population])\n",
    "best_individual = population[best_individual_idx]\n",
    "print(\"Best individual:\", best_individual)\n",
    "print(\"Best fitness:\", fitness(best_individual))"
   ]
  }
 ],
 "metadata": {
  "kernelspec": {
   "display_name": "Python 3",
   "language": "python",
   "name": "python3"
  },
  "language_info": {
   "codemirror_mode": {
    "name": "ipython",
    "version": 3
   },
   "file_extension": ".py",
   "mimetype": "text/x-python",
   "name": "python",
   "nbconvert_exporter": "python",
   "pygments_lexer": "ipython3",
   "version": "3.10.2"
  }
 },
 "nbformat": 4,
 "nbformat_minor": 2
}
